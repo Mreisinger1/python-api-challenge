{
 "cells": [
  {
   "cell_type": "markdown",
   "metadata": {},
   "source": [
    "Three observable trends from the data: \n",
    "\n",
    "1. Humidity, cloudiness and windspeed don't seem to have a trend when it comes to the latitude. They vary by location. \n",
    "\n",
    "2. Max temperature is the highest around the equator and spreads out the farther you get away from the equator. \n",
    "\n",
    "3. There is no strong relationship between latitude and windspeed or latitude and humidity. \n",
    "\n"
   ]
  },
  {
   "cell_type": "code",
   "execution_count": 1,
   "metadata": {
    "scrolled": true
   },
   "outputs": [],
   "source": [
    "# Dependencies and Setup\n",
    "import matplotlib.pyplot as plt\n",
    "import pandas as pd\n",
    "import numpy as np\n",
    "import requests\n",
    "import time\n",
    "from scipy.stats import linregress\n",
    "\n",
    "# Import API key\n",
    "from api_keys import weather_api_key\n",
    "\n",
    "\n",
    "# Incorporated citipy to determine city based on latitude and longitude\n",
    "from citipy import citipy\n",
    "\n",
    "# Output File (CSV)\n",
    "output_data_file = \"output_data/cities.csv\"\n",
    "\n",
    "# Range of latitudes and longitudes\n",
    "lat_range = (-90, 90)\n",
    "lng_range = (-180, 180)\n"
   ]
  },
  {
   "cell_type": "code",
   "execution_count": 2,
   "metadata": {},
   "outputs": [
    {
     "data": {
      "text/plain": [
       "615"
      ]
     },
     "execution_count": 2,
     "metadata": {},
     "output_type": "execute_result"
    }
   ],
   "source": [
    "# List for holding lat_lngs and cities\n",
    "lat_lngs = []\n",
    "cities = []\n",
    "\n",
    "# Create a set of random lat and lng combinations\n",
    "lats = np.random.uniform(lat_range[0], lat_range[1], size=1500)\n",
    "lngs = np.random.uniform(lng_range[0], lng_range[1], size=1500)\n",
    "lat_lngs = zip(lats, lngs)\n",
    "\n",
    "# Identify nearest city for each lat, lng combination\n",
    "for lat_lng in lat_lngs:\n",
    "    city = citipy.nearest_city(lat_lng[0], lat_lng[1]).city_name\n",
    "    \n",
    "    # If the city is unique, then add it to a our cities list\n",
    "    if city not in cities:\n",
    "        cities.append(city)\n",
    "\n",
    "# Print the city count to confirm sufficient count\n",
    "len(cities)"
   ]
  },
  {
   "cell_type": "code",
   "execution_count": 3,
   "metadata": {},
   "outputs": [
    {
     "data": {
      "text/plain": [
       "611"
      ]
     },
     "execution_count": 3,
     "metadata": {},
     "output_type": "execute_result"
    }
   ],
   "source": [
    "# List for holding lat_lngs and cities\n",
    "lat_lngs = []\n",
    "cities = []\n",
    "\n",
    "# Create a set of random lat and lng combinations\n",
    "lats = np.random.uniform(lat_range[0], lat_range[1], size=1500)\n",
    "lngs = np.random.uniform(lng_range[0], lng_range[1], size=1500)\n",
    "lat_lngs = zip(lats, lngs)\n",
    "\n",
    "# Identify nearest city for each lat, lng combination\n",
    "for lat_lng in lat_lngs:\n",
    "    city = citipy.nearest_city(lat_lng[0], lat_lng[1]).city_name\n",
    "    \n",
    "    # If the city is unique, then add it to a our cities list\n",
    "    if city not in cities:\n",
    "        cities.append(city)\n",
    "\n",
    "# Print the city count to confirm sufficient count\n",
    "len(cities)"
   ]
  },
  {
   "cell_type": "code",
   "execution_count": 4,
   "metadata": {},
   "outputs": [],
   "source": [
    "# Perform API Calls"
   ]
  },
  {
   "cell_type": "code",
   "execution_count": 5,
   "metadata": {},
   "outputs": [],
   "source": [
    "# save api_keys information:\n",
    "url = \"http://api.openweathermap.org/data/2.5/weather?\"\n",
    "units = \"Imperial\"\n",
    "\n",
    "# Build partial query URL\n",
    "query_url = f\"{url}&units={units}&appid={weather_api_key}&q=\""
   ]
  },
  {
   "cell_type": "code",
   "execution_count": 6,
   "metadata": {},
   "outputs": [
    {
     "name": "stdout",
     "output_type": "stream",
     "text": [
      "Beginning Data Retrieval     \n",
      "-------------------------\n",
      "Processing Record 1 of Set 1 | hay river\n",
      "Processing Record 2 of Set 1 | iquique\n",
      "Processing Record 3 of Set 1 | oranjemund\n",
      "Processing Record 4 of Set 1 | ushuaia\n",
      "Processing Record 5 of Set 1 | jamestown\n",
      "Processing Record 6 of Set 1 | wakkanai\n",
      "Processing Record 7 of Set 1 | arraial do cabo\n",
      "Processing Record 8 of Set 1 | taolanaro\n",
      "City not found. Skipping...\n",
      "Processing Record 9 of Set 1 | yumen\n",
      "Processing Record 10 of Set 1 | mount isa\n",
      "Processing Record 11 of Set 1 | suffolk\n",
      "Processing Record 12 of Set 1 | hobart\n",
      "Processing Record 13 of Set 1 | dalvik\n",
      "Processing Record 14 of Set 1 | whitehorse\n",
      "Processing Record 15 of Set 1 | puerto del rosario\n",
      "Processing Record 16 of Set 1 | nuevo progreso\n",
      "Processing Record 17 of Set 1 | mar del plata\n",
      "Processing Record 18 of Set 1 | loanda\n",
      "Processing Record 19 of Set 1 | barrow\n",
      "Processing Record 20 of Set 1 | fare\n",
      "Processing Record 21 of Set 1 | luderitz\n",
      "Processing Record 22 of Set 1 | maldonado\n",
      "Processing Record 23 of Set 1 | yellowknife\n",
      "Processing Record 24 of Set 1 | labuhan\n",
      "Processing Record 25 of Set 1 | magistralnyy\n",
      "Processing Record 26 of Set 1 | puerto ayora\n",
      "Processing Record 27 of Set 1 | hithadhoo\n",
      "Processing Record 28 of Set 1 | ondjiva\n",
      "Processing Record 29 of Set 1 | vaini\n",
      "Processing Record 30 of Set 1 | erenhot\n",
      "Processing Record 31 of Set 1 | busselton\n",
      "Processing Record 32 of Set 1 | miles city\n",
      "Processing Record 33 of Set 1 | mahebourg\n",
      "Processing Record 34 of Set 1 | bredasdorp\n",
      "Processing Record 35 of Set 1 | mys shmidta\n",
      "City not found. Skipping...\n",
      "Processing Record 36 of Set 1 | nanortalik\n",
      "Processing Record 37 of Set 1 | cherskiy\n",
      "Processing Record 38 of Set 1 | ahuimanu\n",
      "Processing Record 39 of Set 1 | enid\n",
      "Processing Record 40 of Set 1 | belushya guba\n",
      "City not found. Skipping...\n",
      "Processing Record 41 of Set 1 | rio gallegos\n",
      "Processing Record 42 of Set 1 | bluff\n",
      "Processing Record 43 of Set 1 | sao lourenco do oeste\n",
      "Processing Record 44 of Set 1 | kapaa\n",
      "Processing Record 45 of Set 1 | ca mau\n",
      "Processing Record 46 of Set 1 | georgetown\n",
      "Processing Record 47 of Set 1 | savalou\n",
      "Processing Record 48 of Set 1 | saint-georges\n",
      "Processing Record 49 of Set 1 | bo rai\n",
      "Processing Record 50 of Set 1 | illoqqortoormiut\n",
      "City not found. Skipping...\n",
      "Processing Record 0 of Set 2 | punta arenas\n",
      "Processing Record 1 of Set 2 | havoysund\n",
      "Processing Record 2 of Set 2 | dikson\n",
      "Processing Record 3 of Set 2 | thinadhoo\n",
      "Processing Record 4 of Set 2 | pangnirtung\n",
      "Processing Record 5 of Set 2 | albany\n",
      "Processing Record 6 of Set 2 | qaanaaq\n",
      "Processing Record 7 of Set 2 | horsham\n",
      "Processing Record 8 of Set 2 | mataura\n",
      "Processing Record 9 of Set 2 | chapais\n",
      "Processing Record 10 of Set 2 | meulaboh\n",
      "Processing Record 11 of Set 2 | butaritari\n",
      "Processing Record 12 of Set 2 | grand gaube\n",
      "Processing Record 13 of Set 2 | atuona\n",
      "Processing Record 14 of Set 2 | longyearbyen\n",
      "Processing Record 15 of Set 2 | ponta do sol\n",
      "Processing Record 16 of Set 2 | watertown\n",
      "Processing Record 17 of Set 2 | nikolskoye\n",
      "Processing Record 18 of Set 2 | sobolevo\n",
      "Processing Record 19 of Set 2 | chokurdakh\n",
      "Processing Record 20 of Set 2 | omboue\n",
      "Processing Record 21 of Set 2 | lodwar\n",
      "Processing Record 22 of Set 2 | cowansville\n",
      "Processing Record 23 of Set 2 | kalmunai\n",
      "Processing Record 24 of Set 2 | saskylakh\n",
      "Processing Record 25 of Set 2 | avarua\n",
      "Processing Record 26 of Set 2 | puerto escondido\n",
      "Processing Record 27 of Set 2 | severo-kurilsk\n",
      "Processing Record 28 of Set 2 | tuktoyaktuk\n",
      "Processing Record 29 of Set 2 | lampang\n",
      "Processing Record 30 of Set 2 | port alfred\n",
      "Processing Record 31 of Set 2 | cape town\n",
      "Processing Record 32 of Set 2 | fort nelson\n",
      "Processing Record 33 of Set 2 | bethel\n",
      "Processing Record 34 of Set 2 | kaitangata\n",
      "Processing Record 35 of Set 2 | palmer\n",
      "Processing Record 36 of Set 2 | nizhneyansk\n",
      "City not found. Skipping...\n",
      "Processing Record 37 of Set 2 | san nicolas\n",
      "Processing Record 38 of Set 2 | lebu\n",
      "Processing Record 39 of Set 2 | gland\n",
      "Processing Record 40 of Set 2 | oktyabrskoye\n",
      "Processing Record 41 of Set 2 | rotifunk\n",
      "Processing Record 42 of Set 2 | manono\n",
      "Processing Record 43 of Set 2 | guerrero negro\n",
      "Processing Record 44 of Set 2 | verkhnyaya inta\n",
      "Processing Record 45 of Set 2 | kamenskoye\n",
      "City not found. Skipping...\n",
      "Processing Record 46 of Set 2 | hermanus\n",
      "Processing Record 47 of Set 2 | tasiilaq\n",
      "Processing Record 48 of Set 2 | hurghada\n",
      "Processing Record 49 of Set 2 | saint-philippe\n",
      "Processing Record 0 of Set 3 | usinsk\n",
      "Processing Record 1 of Set 3 | turukhansk\n",
      "Processing Record 2 of Set 3 | rikitea\n",
      "Processing Record 3 of Set 3 | chaozhou\n",
      "Processing Record 4 of Set 3 | ulaangom\n",
      "Processing Record 5 of Set 3 | brae\n",
      "Processing Record 6 of Set 3 | yar-sale\n",
      "Processing Record 7 of Set 3 | almaznyy\n",
      "Processing Record 8 of Set 3 | bardiyah\n",
      "Processing Record 9 of Set 3 | salalah\n",
      "Processing Record 10 of Set 3 | yacuiba\n",
      "Processing Record 11 of Set 3 | bambous virieux\n",
      "Processing Record 12 of Set 3 | lolua\n",
      "City not found. Skipping...\n",
      "Processing Record 13 of Set 3 | tamandare\n",
      "Processing Record 14 of Set 3 | athabasca\n",
      "Processing Record 15 of Set 3 | vaitupu\n",
      "City not found. Skipping...\n",
      "Processing Record 16 of Set 3 | aldan\n",
      "Processing Record 17 of Set 3 | romny\n",
      "Processing Record 18 of Set 3 | sheltozero\n",
      "Processing Record 19 of Set 3 | vila velha\n",
      "Processing Record 20 of Set 3 | bodmin\n",
      "Processing Record 21 of Set 3 | itarema\n",
      "Processing Record 22 of Set 3 | agadir\n",
      "Processing Record 23 of Set 3 | byron bay\n",
      "Processing Record 24 of Set 3 | warragul\n",
      "Processing Record 25 of Set 3 | sataua\n",
      "City not found. Skipping...\n",
      "Processing Record 26 of Set 3 | rabo de peixe\n",
      "Processing Record 27 of Set 3 | jacksonville\n",
      "Processing Record 28 of Set 3 | pisco\n",
      "Processing Record 29 of Set 3 | sairang\n",
      "Processing Record 30 of Set 3 | dunedin\n",
      "Processing Record 31 of Set 3 | bixby\n",
      "Processing Record 32 of Set 3 | nador\n",
      "Processing Record 33 of Set 3 | san luis rio colorado\n",
      "Processing Record 34 of Set 3 | pozo colorado\n",
      "Processing Record 35 of Set 3 | katsuura\n",
      "Processing Record 36 of Set 3 | airai\n",
      "Processing Record 37 of Set 3 | durres\n",
      "Processing Record 38 of Set 3 | saleaula\n",
      "City not found. Skipping...\n",
      "Processing Record 39 of Set 3 | saldanha\n",
      "Processing Record 40 of Set 3 | tiksi\n",
      "Processing Record 41 of Set 3 | bouna\n",
      "Processing Record 42 of Set 3 | victoria\n",
      "Processing Record 43 of Set 3 | thompson\n",
      "Processing Record 44 of Set 3 | vitim\n",
      "Processing Record 45 of Set 3 | vardo\n",
      "Processing Record 46 of Set 3 | mentok\n",
      "City not found. Skipping...\n",
      "Processing Record 47 of Set 3 | samusu\n",
      "City not found. Skipping...\n",
      "Processing Record 48 of Set 3 | mrirt\n",
      "City not found. Skipping...\n",
      "Processing Record 49 of Set 3 | kamenka\n",
      "Processing Record 0 of Set 4 | chateauroux\n",
      "Processing Record 1 of Set 4 | hobyo\n",
      "Processing Record 2 of Set 4 | port macquarie\n",
      "Processing Record 3 of Set 4 | kodiak\n",
      "Processing Record 4 of Set 4 | port-gentil\n",
      "Processing Record 5 of Set 4 | bull savanna\n",
      "Processing Record 6 of Set 4 | jumla\n",
      "Processing Record 7 of Set 4 | sorland\n",
      "Processing Record 8 of Set 4 | hilo\n",
      "City not found. Skipping...\n",
      "Processing Record 9 of Set 4 | cabo san lucas\n",
      "Processing Record 10 of Set 4 | sabang\n",
      "Processing Record 11 of Set 4 | souillac\n",
      "Processing Record 12 of Set 4 | cuencame\n",
      "Processing Record 13 of Set 4 | sambava\n",
      "Processing Record 14 of Set 4 | glenwood springs\n",
      "Processing Record 15 of Set 4 | ilulissat\n",
      "Processing Record 16 of Set 4 | new norfolk\n",
      "Processing Record 17 of Set 4 | port lincoln\n",
      "Processing Record 18 of Set 4 | veraval\n",
      "Processing Record 19 of Set 4 | clyde river\n",
      "Processing Record 20 of Set 4 | goderich\n",
      "Processing Record 21 of Set 4 | sision\n",
      "City not found. Skipping...\n",
      "Processing Record 22 of Set 4 | ostrovnoy\n",
      "Processing Record 23 of Set 4 | northam\n",
      "Processing Record 24 of Set 4 | husavik\n",
      "Processing Record 25 of Set 4 | macamic\n",
      "Processing Record 26 of Set 4 | faanui\n",
      "Processing Record 27 of Set 4 | sabha\n",
      "Processing Record 28 of Set 4 | san rafael\n",
      "Processing Record 29 of Set 4 | karaul\n",
      "City not found. Skipping...\n",
      "Processing Record 30 of Set 4 | haines junction\n",
      "Processing Record 31 of Set 4 | iqaluit\n",
      "Processing Record 32 of Set 4 | tromso\n",
      "Processing Record 33 of Set 4 | itapirapua\n",
      "Processing Record 34 of Set 4 | kahului\n",
      "Processing Record 35 of Set 4 | saint-joseph\n"
     ]
    },
    {
     "name": "stdout",
     "output_type": "stream",
     "text": [
      "Processing Record 36 of Set 4 | kudahuvadhoo\n",
      "Processing Record 37 of Set 4 | hasaki\n",
      "Processing Record 38 of Set 4 | grindavik\n",
      "Processing Record 39 of Set 4 | amderma\n",
      "City not found. Skipping...\n",
      "Processing Record 40 of Set 4 | puerto carreno\n",
      "Processing Record 41 of Set 4 | nanyang\n",
      "Processing Record 42 of Set 4 | komsomolskiy\n",
      "Processing Record 43 of Set 4 | badvel\n",
      "Processing Record 44 of Set 4 | mogadishu\n",
      "Processing Record 45 of Set 4 | uray\n",
      "Processing Record 46 of Set 4 | cap-aux-meules\n",
      "Processing Record 47 of Set 4 | upernavik\n",
      "Processing Record 48 of Set 4 | mehamn\n",
      "Processing Record 49 of Set 4 | batemans bay\n",
      "Processing Record 0 of Set 5 | vestmannaeyjar\n",
      "Processing Record 1 of Set 5 | urambo\n",
      "Processing Record 2 of Set 5 | eregli\n",
      "Processing Record 3 of Set 5 | kachug\n",
      "Processing Record 4 of Set 5 | marcona\n",
      "City not found. Skipping...\n",
      "Processing Record 5 of Set 5 | port hawkesbury\n",
      "Processing Record 6 of Set 5 | leshukonskoye\n",
      "Processing Record 7 of Set 5 | dolbeau\n",
      "City not found. Skipping...\n",
      "Processing Record 8 of Set 5 | san patricio\n",
      "Processing Record 9 of Set 5 | jiazi\n",
      "Processing Record 10 of Set 5 | atbasar\n",
      "Processing Record 11 of Set 5 | richards bay\n",
      "Processing Record 12 of Set 5 | cody\n",
      "Processing Record 13 of Set 5 | kavieng\n",
      "Processing Record 14 of Set 5 | kirakira\n",
      "Processing Record 15 of Set 5 | eureka\n",
      "Processing Record 16 of Set 5 | naze\n",
      "Processing Record 17 of Set 5 | batangafo\n",
      "Processing Record 18 of Set 5 | san juan\n",
      "Processing Record 19 of Set 5 | dali\n",
      "Processing Record 20 of Set 5 | ilave\n",
      "Processing Record 21 of Set 5 | attawapiskat\n",
      "City not found. Skipping...\n",
      "Processing Record 22 of Set 5 | hamilton\n",
      "Processing Record 23 of Set 5 | poum\n",
      "Processing Record 24 of Set 5 | marsaxlokk\n",
      "Processing Record 25 of Set 5 | padang\n",
      "Processing Record 26 of Set 5 | doctor pedro p. pena\n",
      "City not found. Skipping...\n",
      "Processing Record 27 of Set 5 | lahij\n",
      "Processing Record 28 of Set 5 | pevek\n",
      "Processing Record 29 of Set 5 | utiroa\n",
      "City not found. Skipping...\n",
      "Processing Record 30 of Set 5 | shihezi\n",
      "Processing Record 31 of Set 5 | kargasok\n",
      "Processing Record 32 of Set 5 | vernon\n",
      "Processing Record 33 of Set 5 | amapa\n",
      "Processing Record 34 of Set 5 | zemio\n",
      "Processing Record 35 of Set 5 | camden\n",
      "Processing Record 36 of Set 5 | coahuayana\n",
      "Processing Record 37 of Set 5 | kruisfontein\n",
      "Processing Record 38 of Set 5 | yerbogachen\n",
      "Processing Record 39 of Set 5 | caravelas\n",
      "Processing Record 40 of Set 5 | grand island\n",
      "Processing Record 41 of Set 5 | praia\n",
      "Processing Record 42 of Set 5 | east london\n",
      "Processing Record 43 of Set 5 | tsihombe\n",
      "City not found. Skipping...\n",
      "Processing Record 44 of Set 5 | micheweni\n",
      "Processing Record 45 of Set 5 | bengkulu\n",
      "Processing Record 46 of Set 5 | maniitsoq\n",
      "Processing Record 47 of Set 5 | rumphi\n",
      "Processing Record 48 of Set 5 | barentsburg\n",
      "City not found. Skipping...\n",
      "Processing Record 49 of Set 5 | fukue\n",
      "Processing Record 0 of Set 6 | sambir\n",
      "Processing Record 1 of Set 6 | tuatapere\n",
      "Processing Record 2 of Set 6 | zhezkazgan\n",
      "Processing Record 3 of Set 6 | verkhovazhye\n",
      "Processing Record 4 of Set 6 | japura\n",
      "Processing Record 5 of Set 6 | bayburt\n",
      "Processing Record 6 of Set 6 | narsaq\n",
      "Processing Record 7 of Set 6 | beatrice\n",
      "Processing Record 8 of Set 6 | los altos\n",
      "Processing Record 9 of Set 6 | mahajanga\n",
      "Processing Record 10 of Set 6 | sao joao da barra\n",
      "Processing Record 11 of Set 6 | castro\n",
      "Processing Record 12 of Set 6 | inirida\n",
      "Processing Record 13 of Set 6 | namatanai\n",
      "Processing Record 14 of Set 6 | port elizabeth\n",
      "Processing Record 15 of Set 6 | ziro\n",
      "Processing Record 16 of Set 6 | chuy\n",
      "Processing Record 17 of Set 6 | muisne\n",
      "Processing Record 18 of Set 6 | poykovskiy\n",
      "Processing Record 19 of Set 6 | bac lieu\n",
      "Processing Record 20 of Set 6 | taksimo\n",
      "Processing Record 21 of Set 6 | nemuro\n",
      "Processing Record 22 of Set 6 | lorengau\n",
      "Processing Record 23 of Set 6 | satitoa\n",
      "City not found. Skipping...\n",
      "Processing Record 24 of Set 6 | miri\n",
      "Processing Record 25 of Set 6 | mandalgovi\n",
      "Processing Record 26 of Set 6 | ballina\n",
      "Processing Record 27 of Set 6 | dedza\n",
      "Processing Record 28 of Set 6 | daultala\n",
      "Processing Record 29 of Set 6 | shingu\n",
      "Processing Record 30 of Set 6 | ribeira grande\n",
      "Processing Record 31 of Set 6 | lethem\n",
      "Processing Record 32 of Set 6 | nouadhibou\n",
      "Processing Record 33 of Set 6 | naryan-mar\n",
      "Processing Record 34 of Set 6 | rockhampton\n",
      "Processing Record 35 of Set 6 | dingle\n",
      "Processing Record 36 of Set 6 | ambon\n",
      "Processing Record 37 of Set 6 | olafsvik\n",
      "Processing Record 38 of Set 6 | cidreira\n",
      "Processing Record 39 of Set 6 | carnarvon\n",
      "Processing Record 40 of Set 6 | coro\n",
      "Processing Record 41 of Set 6 | hudson bay\n",
      "Processing Record 42 of Set 6 | novoilinsk\n",
      "Processing Record 43 of Set 6 | simao\n",
      "Processing Record 44 of Set 6 | vasai\n",
      "Processing Record 45 of Set 6 | arauco\n",
      "Processing Record 46 of Set 6 | zhuhai\n",
      "Processing Record 47 of Set 6 | longonjo\n",
      "Processing Record 48 of Set 6 | bowen\n",
      "Processing Record 49 of Set 6 | antofagasta\n",
      "Processing Record 0 of Set 7 | teya\n",
      "Processing Record 1 of Set 7 | coquimbo\n",
      "Processing Record 2 of Set 7 | asau\n",
      "Processing Record 3 of Set 7 | ullapool\n",
      "Processing Record 4 of Set 7 | aswan\n",
      "Processing Record 5 of Set 7 | ancud\n",
      "Processing Record 6 of Set 7 | geraldton\n",
      "Processing Record 7 of Set 7 | mbuji-mayi\n",
      "Processing Record 8 of Set 7 | sayanogorsk\n",
      "Processing Record 9 of Set 7 | jacqueville\n",
      "Processing Record 10 of Set 7 | mayya\n",
      "Processing Record 11 of Set 7 | pointe michel\n",
      "Processing Record 12 of Set 7 | griffith\n",
      "Processing Record 13 of Set 7 | erzin\n",
      "Processing Record 14 of Set 7 | hirara\n",
      "Processing Record 15 of Set 7 | vao\n",
      "Processing Record 16 of Set 7 | creel\n",
      "Processing Record 17 of Set 7 | muros\n",
      "Processing Record 18 of Set 7 | sisimiut\n",
      "Processing Record 19 of Set 7 | presidencia roque saenz pena\n",
      "Processing Record 20 of Set 7 | san pedro\n",
      "Processing Record 21 of Set 7 | lingao\n",
      "Processing Record 22 of Set 7 | neiafu\n",
      "Processing Record 23 of Set 7 | carutapera\n",
      "Processing Record 24 of Set 7 | faya\n",
      "Processing Record 25 of Set 7 | gorontalo\n",
      "Processing Record 26 of Set 7 | chihuahua\n",
      "Processing Record 27 of Set 7 | saryshagan\n",
      "City not found. Skipping...\n",
      "Processing Record 28 of Set 7 | nome\n",
      "Processing Record 29 of Set 7 | sioux lookout\n",
      "Processing Record 30 of Set 7 | axim\n",
      "Processing Record 31 of Set 7 | villa bruzual\n",
      "Processing Record 32 of Set 7 | zaprudnya\n",
      "Processing Record 33 of Set 7 | iquitos\n",
      "Processing Record 34 of Set 7 | zyryanka\n",
      "Processing Record 35 of Set 7 | mount gambier\n",
      "Processing Record 36 of Set 7 | santa ines\n",
      "Processing Record 37 of Set 7 | los llanos de aridane\n",
      "Processing Record 38 of Set 7 | guacimo\n",
      "Processing Record 39 of Set 7 | comodoro rivadavia\n",
      "Processing Record 40 of Set 7 | vostok\n",
      "Processing Record 41 of Set 7 | san quintin\n",
      "Processing Record 42 of Set 7 | birin\n",
      "Processing Record 43 of Set 7 | alpena\n",
      "Processing Record 44 of Set 7 | eskasem\n",
      "City not found. Skipping...\n",
      "Processing Record 45 of Set 7 | buraydah\n",
      "Processing Record 46 of Set 7 | quatre cocos\n",
      "Processing Record 47 of Set 7 | anadyr\n",
      "Processing Record 48 of Set 7 | oriximina\n",
      "Processing Record 49 of Set 7 | khatanga\n",
      "Processing Record 0 of Set 8 | port moresby\n",
      "Processing Record 1 of Set 8 | perth\n",
      "Processing Record 2 of Set 8 | araouane\n",
      "Processing Record 3 of Set 8 | lufilufi\n",
      "Processing Record 4 of Set 8 | sitka\n",
      "Processing Record 5 of Set 8 | darnah\n",
      "Processing Record 6 of Set 8 | tazmalt\n",
      "Processing Record 7 of Set 8 | temaraia\n",
      "City not found. Skipping...\n",
      "Processing Record 8 of Set 8 | taburi\n",
      "City not found. Skipping...\n",
      "Processing Record 9 of Set 8 | khed brahma\n",
      "Processing Record 10 of Set 8 | monrovia\n",
      "Processing Record 11 of Set 8 | torbay\n",
      "Processing Record 12 of Set 8 | alofi\n",
      "Processing Record 13 of Set 8 | grand river south east\n",
      "City not found. Skipping...\n",
      "Processing Record 14 of Set 8 | busko-zdroj\n",
      "Processing Record 15 of Set 8 | flinders\n",
      "Processing Record 16 of Set 8 | saposoa\n",
      "Processing Record 17 of Set 8 | provideniya\n",
      "Processing Record 18 of Set 8 | port augusta\n",
      "Processing Record 19 of Set 8 | bubaque\n",
      "Processing Record 20 of Set 8 | kemijarvi\n",
      "Processing Record 21 of Set 8 | esperance\n",
      "Processing Record 22 of Set 8 | bambari\n",
      "Processing Record 23 of Set 8 | carupano\n",
      "Processing Record 24 of Set 8 | cadiz\n",
      "Processing Record 25 of Set 8 | portland\n"
     ]
    },
    {
     "name": "stdout",
     "output_type": "stream",
     "text": [
      "Processing Record 26 of Set 8 | kalinagar\n",
      "Processing Record 27 of Set 8 | pekalongan\n",
      "Processing Record 28 of Set 8 | halalo\n",
      "City not found. Skipping...\n",
      "Processing Record 29 of Set 8 | kiruna\n",
      "Processing Record 30 of Set 8 | loandjili\n",
      "Processing Record 31 of Set 8 | jalu\n",
      "Processing Record 32 of Set 8 | toora-khem\n",
      "Processing Record 33 of Set 8 | san mateo del mar\n",
      "Processing Record 34 of Set 8 | norman wells\n",
      "Processing Record 35 of Set 8 | macheng\n",
      "Processing Record 36 of Set 8 | gat\n",
      "Processing Record 37 of Set 8 | tokmak\n",
      "Processing Record 38 of Set 8 | pueblo nuevo\n",
      "Processing Record 39 of Set 8 | montijo\n",
      "Processing Record 40 of Set 8 | karaton\n",
      "Processing Record 41 of Set 8 | dhidhdhoo\n",
      "Processing Record 42 of Set 8 | ngukurr\n",
      "City not found. Skipping...\n",
      "Processing Record 43 of Set 8 | ahipara\n",
      "Processing Record 44 of Set 8 | tumannyy\n",
      "City not found. Skipping...\n",
      "Processing Record 45 of Set 8 | osoyoos\n",
      "Processing Record 46 of Set 8 | la ronge\n",
      "Processing Record 47 of Set 8 | bayan\n",
      "Processing Record 48 of Set 8 | ust-ishim\n",
      "Processing Record 49 of Set 8 | luanda\n",
      "Processing Record 0 of Set 9 | pandan\n",
      "Processing Record 1 of Set 9 | vanimo\n",
      "Processing Record 2 of Set 9 | nadym\n",
      "Processing Record 3 of Set 9 | mapiripan\n",
      "Processing Record 4 of Set 9 | rio grande\n",
      "Processing Record 5 of Set 9 | mareeba\n",
      "Processing Record 6 of Set 9 | marrakesh\n",
      "Processing Record 7 of Set 9 | solnechnyy\n",
      "Processing Record 8 of Set 9 | rocha\n",
      "Processing Record 9 of Set 9 | lavrentiya\n",
      "Processing Record 10 of Set 9 | kyren\n",
      "Processing Record 11 of Set 9 | ixtapa\n",
      "Processing Record 12 of Set 9 | adiake\n",
      "Processing Record 13 of Set 9 | klaksvik\n",
      "Processing Record 14 of Set 9 | touros\n",
      "Processing Record 15 of Set 9 | karratha\n",
      "Processing Record 16 of Set 9 | marsh harbour\n",
      "Processing Record 17 of Set 9 | storforshei\n",
      "Processing Record 18 of Set 9 | mamallapuram\n",
      "Processing Record 19 of Set 9 | itaituba\n",
      "Processing Record 20 of Set 9 | deputatskiy\n",
      "Processing Record 21 of Set 9 | labytnangi\n",
      "Processing Record 22 of Set 9 | ambilobe\n",
      "Processing Record 23 of Set 9 | gonzales\n",
      "Processing Record 24 of Set 9 | uaua\n",
      "Processing Record 25 of Set 9 | ayorou\n",
      "Processing Record 26 of Set 9 | alice\n",
      "Processing Record 27 of Set 9 | abha\n",
      "Processing Record 28 of Set 9 | boa vista\n",
      "Processing Record 29 of Set 9 | manaus\n",
      "Processing Record 30 of Set 9 | poboru\n",
      "Processing Record 31 of Set 9 | port blair\n",
      "Processing Record 32 of Set 9 | san cristobal\n",
      "Processing Record 33 of Set 9 | kichera\n",
      "Processing Record 34 of Set 9 | broken hill\n",
      "Processing Record 35 of Set 9 | sentyabrskiy\n",
      "City not found. Skipping...\n",
      "Processing Record 36 of Set 9 | maykain\n",
      "City not found. Skipping...\n",
      "Processing Record 37 of Set 9 | felanitx\n",
      "Processing Record 38 of Set 9 | kochi\n",
      "Processing Record 39 of Set 9 | bolungarvik\n",
      "City not found. Skipping...\n",
      "Processing Record 40 of Set 9 | paamiut\n",
      "Processing Record 41 of Set 9 | bauchi\n",
      "Processing Record 42 of Set 9 | zolotinka\n",
      "City not found. Skipping...\n",
      "Processing Record 43 of Set 9 | pohrebyshche\n",
      "Processing Record 44 of Set 9 | azimur\n",
      "City not found. Skipping...\n",
      "Processing Record 45 of Set 9 | lata\n",
      "Processing Record 46 of Set 9 | westport\n",
      "Processing Record 47 of Set 9 | killybegs\n",
      "Processing Record 48 of Set 9 | elliot\n",
      "Processing Record 49 of Set 9 | celestun\n",
      "Processing Record 0 of Set 10 | zhangye\n",
      "Processing Record 1 of Set 10 | kutum\n",
      "Processing Record 2 of Set 10 | vila franca do campo\n",
      "Processing Record 3 of Set 10 | lalomanu\n",
      "City not found. Skipping...\n",
      "Processing Record 4 of Set 10 | dzaoudzi\n",
      "Processing Record 5 of Set 10 | ketchikan\n",
      "Processing Record 6 of Set 10 | banda aceh\n",
      "Processing Record 7 of Set 10 | belyy yar\n",
      "Processing Record 8 of Set 10 | cleburne\n",
      "Processing Record 9 of Set 10 | saint george\n",
      "Processing Record 10 of Set 10 | durazno\n",
      "Processing Record 11 of Set 10 | teknaf\n",
      "Processing Record 12 of Set 10 | weatherford\n",
      "Processing Record 13 of Set 10 | yanan\n",
      "City not found. Skipping...\n",
      "Processing Record 14 of Set 10 | koutiala\n",
      "Processing Record 15 of Set 10 | shitanjing\n",
      "Processing Record 16 of Set 10 | clarence town\n",
      "Processing Record 17 of Set 10 | marica\n",
      "Processing Record 18 of Set 10 | sao filipe\n",
      "Processing Record 19 of Set 10 | fortuna\n",
      "Processing Record 20 of Set 10 | pilar\n",
      "Processing Record 21 of Set 10 | kangaatsiaq\n",
      "Processing Record 22 of Set 10 | kjopsvik\n",
      "Processing Record 23 of Set 10 | santa isabel do rio negro\n",
      "Processing Record 24 of Set 10 | valparaiso\n",
      "Processing Record 25 of Set 10 | isangel\n",
      "Processing Record 26 of Set 10 | wadi maliz\n",
      "Processing Record 27 of Set 10 | yamada\n",
      "Processing Record 28 of Set 10 | laiyang\n",
      "Processing Record 29 of Set 10 | soyo\n",
      "Processing Record 30 of Set 10 | tashtagol\n",
      "Processing Record 31 of Set 10 | hihifo\n",
      "City not found. Skipping...\n",
      "Processing Record 32 of Set 10 | guatemalita\n",
      "City not found. Skipping...\n",
      "Processing Record 33 of Set 10 | tchibanga\n",
      "Processing Record 34 of Set 10 | tiznit\n",
      "Processing Record 35 of Set 10 | atar\n",
      "Processing Record 36 of Set 10 | moosomin\n",
      "Processing Record 37 of Set 10 | seymchan\n",
      "Processing Record 38 of Set 10 | charcas\n",
      "Processing Record 39 of Set 10 | fairview\n",
      "Processing Record 40 of Set 10 | ukiah\n",
      "Processing Record 41 of Set 10 | kapustin yar-1\n",
      "City not found. Skipping...\n",
      "Processing Record 42 of Set 10 | coihaique\n",
      "Processing Record 43 of Set 10 | shimoda\n",
      "Processing Record 44 of Set 10 | ossora\n",
      "Processing Record 45 of Set 10 | mahon\n",
      "Processing Record 46 of Set 10 | qrendi\n",
      "Processing Record 47 of Set 10 | talnakh\n",
      "Processing Record 48 of Set 10 | tawnat\n",
      "City not found. Skipping...\n",
      "Processing Record 49 of Set 10 | trairi\n",
      "Processing Record 0 of Set 11 | mizan teferi\n",
      "Processing Record 1 of Set 11 | anqing\n",
      "Processing Record 2 of Set 11 | sola\n",
      "Processing Record 3 of Set 11 | agirish\n",
      "Processing Record 4 of Set 11 | santa maria\n",
      "Processing Record 5 of Set 11 | nishihara\n",
      "Processing Record 6 of Set 11 | milkovo\n",
      "Processing Record 7 of Set 11 | codrington\n",
      "Processing Record 8 of Set 11 | springbok\n",
      "Processing Record 9 of Set 11 | nizwa\n",
      "Processing Record 10 of Set 11 | shenjiamen\n",
      "Processing Record 11 of Set 11 | merano\n",
      "Processing Record 12 of Set 11 | berdigestyakh\n",
      "Processing Record 13 of Set 11 | sumkino\n",
      "Processing Record 14 of Set 11 | odienne\n",
      "Processing Record 15 of Set 11 | aguimes\n",
      "Processing Record 16 of Set 11 | batonyterenye\n",
      "Processing Record 17 of Set 11 | ust-nera\n",
      "Processing Record 18 of Set 11 | boden\n",
      "Processing Record 19 of Set 11 | santa cruz\n",
      "Processing Record 20 of Set 11 | hami\n",
      "Processing Record 21 of Set 11 | ghanzi\n",
      "Processing Record 22 of Set 11 | mercedes\n",
      "Processing Record 23 of Set 11 | adrar\n",
      "Processing Record 24 of Set 11 | arecibo\n",
      "Processing Record 25 of Set 11 | peruibe\n",
      "Processing Record 26 of Set 11 | russell\n",
      "Processing Record 27 of Set 11 | nicosia\n",
      "Processing Record 28 of Set 11 | sinnamary\n",
      "Processing Record 29 of Set 11 | malwan\n",
      "City not found. Skipping...\n",
      "Processing Record 30 of Set 11 | pervomayskoye\n",
      "Processing Record 31 of Set 11 | zaysan\n",
      "Processing Record 32 of Set 11 | swan hill\n",
      "Processing Record 33 of Set 11 | mitu\n",
      "Processing Record 34 of Set 11 | jacareacanga\n",
      "Processing Record 35 of Set 11 | straumen\n",
      "Processing Record 36 of Set 11 | gravdal\n",
      "Processing Record 37 of Set 11 | dzhusaly\n",
      "City not found. Skipping...\n",
      "Processing Record 38 of Set 11 | bridlington\n",
      "Processing Record 39 of Set 11 | tessalit\n",
      "Processing Record 40 of Set 11 | domoni\n",
      "Processing Record 41 of Set 11 | college\n",
      "Processing Record 42 of Set 11 | manicore\n",
      "Processing Record 43 of Set 11 | clovis\n",
      "Processing Record 44 of Set 11 | margate\n",
      "Processing Record 45 of Set 11 | nantucket\n",
      "Processing Record 46 of Set 11 | constitucion\n",
      "Processing Record 47 of Set 11 | kerki\n",
      "City not found. Skipping...\n",
      "Processing Record 48 of Set 11 | chimore\n",
      "Processing Record 49 of Set 11 | viet tri\n",
      "Processing Record 0 of Set 12 | putai\n",
      "Processing Record 1 of Set 12 | luba\n",
      "Processing Record 2 of Set 12 | muyezerskiy\n",
      "Processing Record 3 of Set 12 | bhawanipatna\n",
      "Processing Record 4 of Set 12 | windhoek\n",
      "Processing Record 5 of Set 12 | chubbuck\n",
      "Processing Record 6 of Set 12 | pacific grove\n",
      "Processing Record 7 of Set 12 | saint-augustin\n",
      "Processing Record 8 of Set 12 | burica\n",
      "City not found. Skipping...\n",
      "Processing Record 9 of Set 12 | lompoc\n",
      "Processing Record 10 of Set 12 | poplar bluff\n",
      "Processing Record 11 of Set 12 | sasebo\n"
     ]
    },
    {
     "name": "stdout",
     "output_type": "stream",
     "text": [
      "Processing Record 12 of Set 12 | ulverstone\n",
      "Processing Record 13 of Set 12 | witu\n",
      "Processing Record 14 of Set 12 | aneho\n",
      "Processing Record 15 of Set 12 | si racha\n",
      "Processing Record 16 of Set 12 | diplo\n",
      "Processing Record 17 of Set 12 | lesnoye\n",
      "Processing Record 18 of Set 12 | limbe\n",
      "Processing Record 19 of Set 12 | taebla\n",
      "Processing Record 20 of Set 12 | winburg\n",
      "Processing Record 21 of Set 12 | kahta\n",
      "Processing Record 22 of Set 12 | albion\n",
      "Processing Record 23 of Set 12 | bilibino\n",
      "Processing Record 24 of Set 12 | pauini\n",
      "Processing Record 25 of Set 12 | bonavista\n",
      "Processing Record 26 of Set 12 | yatou\n",
      "Processing Record 27 of Set 12 | piet retief\n",
      "Processing Record 28 of Set 12 | palabuhanratu\n",
      "City not found. Skipping...\n",
      "Processing Record 29 of Set 12 | leningradskiy\n",
      "Processing Record 30 of Set 12 | belmonte\n",
      "Processing Record 31 of Set 12 | bondo\n",
      "Processing Record 32 of Set 12 | necochea\n",
      "Processing Record 33 of Set 12 | alugan\n",
      "Processing Record 34 of Set 12 | maimon\n",
      "City not found. Skipping...\n",
      "Processing Record 35 of Set 12 | riyadh\n",
      "Processing Record 36 of Set 12 | henties bay\n",
      "Processing Record 37 of Set 12 | bolshaya irba\n",
      "City not found. Skipping...\n",
      "Processing Record 38 of Set 12 | kavaratti\n",
      "Processing Record 39 of Set 12 | rostaq\n",
      "City not found. Skipping...\n",
      "Processing Record 40 of Set 12 | makat\n",
      "Processing Record 41 of Set 12 | ust-kamchatsk\n",
      "City not found. Skipping...\n",
      "Processing Record 42 of Set 12 | concepcion del oro\n",
      "Processing Record 43 of Set 12 | mao\n",
      "Processing Record 44 of Set 12 | belaya gora\n",
      "Processing Record 45 of Set 12 | zhanaozen\n",
      "Processing Record 46 of Set 12 | machilipatnam\n",
      "Processing Record 47 of Set 12 | bardsir\n",
      "Processing Record 48 of Set 12 | kidal\n",
      "Processing Record 49 of Set 12 | kungurtug\n",
      "Processing Record 0 of Set 13 | verkhoyansk\n",
      "Processing Record 1 of Set 13 | demyansk\n",
      "Processing Record 2 of Set 13 | puerto narino\n",
      "Processing Record 3 of Set 13 | takoradi\n",
      "Processing Record 4 of Set 13 | sosnovo-ozerskoye\n",
      "Processing Record 5 of Set 13 | broome\n",
      "Processing Record 6 of Set 13 | fairbanks\n",
      "Processing Record 7 of Set 13 | beloha\n",
      "Processing Record 8 of Set 13 | saint-pierre\n",
      "Processing Record 9 of Set 13 | carbondale\n",
      "Processing Record 10 of Set 13 | daru\n",
      "---------------------------\n",
      "Data Retrieval Complete!      \n",
      "---------------------------\n"
     ]
    }
   ],
   "source": [
    "city_data = []\n",
    "city_lat = []\n",
    "city_lng = []\n",
    "city_max_temp = []\n",
    "city_humidity = []\n",
    "city_clouds = []\n",
    "city_wind = []\n",
    "city_country = []\n",
    "city_date = []\n",
    "\n",
    "\n",
    "# Print\n",
    "print(\"Beginning Data Retrieval     \")\n",
    "print(\"-------------------------\")\n",
    "\n",
    "# Creating counters:\n",
    "record_count = 1\n",
    "set_count = 1\n",
    "\n",
    "\n",
    "# Looping through all the cities\n",
    "for i, city in enumerate(cities):\n",
    "       \n",
    "    # Create the endpoint query_url with each city:\n",
    "    city_url = query_url + city\n",
    "    \n",
    "    \n",
    " \n",
    "    if (i % 50 == 0 and i >= 50):\n",
    "        set_count += 1\n",
    "        record_count = 0\n",
    "        \n",
    "    print(\"Processing Record %s of Set %s | %s\" % (record_count, set_count, city))\n",
    "\n",
    "    # Adding 1 to the record count for printing:\n",
    "    record_count += 1\n",
    "\n",
    "    # Running the API request for each of the cities \n",
    "    \n",
    "    try:\n",
    "        \n",
    "        # Make request and store in json\n",
    "        response = requests.get(city_url).json()\n",
    "        \n",
    "        \n",
    "        city_data.append(response[\"name\"])\n",
    "        city_lat.append(response[\"coord\"][\"lat\"])\n",
    "        city_lng.append(response[\"coord\"][\"lon\"])\n",
    "        city_max_temp.append(response[\"main\"][\"temp_max\"])\n",
    "        city_humidity.append(response[\"main\"][\"humidity\"])\n",
    "        city_clouds.append(response[\"clouds\"][\"all\"])\n",
    "        city_wind.append(response[\"wind\"][\"speed\"])\n",
    "        city_country.append(response[\"sys\"][\"country\"])\n",
    "        city_date.append(response[\"dt\"])\n",
    "        time.sleep(2)\n",
    "        \n",
    "    # Handle exceptions for experienced error, skip the city:\n",
    "    except:\n",
    "       \n",
    "        print(\"City not found. Skipping...\")\n",
    "        pass \n",
    "    \n",
    "# Include a print log of each city as its being retrieved \n",
    "print(\"---------------------------\")\n",
    "print(\"Data Retrieval Complete!      \")\n",
    "print(\"---------------------------\")  "
   ]
  },
  {
   "cell_type": "code",
   "execution_count": 7,
   "metadata": {},
   "outputs": [
    {
     "data": {
      "text/html": [
       "<div>\n",
       "<style scoped>\n",
       "    .dataframe tbody tr th:only-of-type {\n",
       "        vertical-align: middle;\n",
       "    }\n",
       "\n",
       "    .dataframe tbody tr th {\n",
       "        vertical-align: top;\n",
       "    }\n",
       "\n",
       "    .dataframe thead th {\n",
       "        text-align: right;\n",
       "    }\n",
       "</style>\n",
       "<table border=\"1\" class=\"dataframe\">\n",
       "  <thead>\n",
       "    <tr style=\"text-align: right;\">\n",
       "      <th></th>\n",
       "      <th>City</th>\n",
       "      <th>Lat</th>\n",
       "      <th>Lng</th>\n",
       "      <th>Max Temp</th>\n",
       "      <th>Humidity</th>\n",
       "      <th>Cloudiness</th>\n",
       "      <th>Wind Speed</th>\n",
       "      <th>Country</th>\n",
       "      <th>Date</th>\n",
       "    </tr>\n",
       "  </thead>\n",
       "  <tbody>\n",
       "    <tr>\n",
       "      <th>0</th>\n",
       "      <td>Hay River</td>\n",
       "      <td>60.8156</td>\n",
       "      <td>-115.7999</td>\n",
       "      <td>85.98</td>\n",
       "      <td>32</td>\n",
       "      <td>75</td>\n",
       "      <td>6.91</td>\n",
       "      <td>CA</td>\n",
       "      <td>1660851476</td>\n",
       "    </tr>\n",
       "    <tr>\n",
       "      <th>1</th>\n",
       "      <td>Iquique</td>\n",
       "      <td>-20.2208</td>\n",
       "      <td>-70.1431</td>\n",
       "      <td>62.64</td>\n",
       "      <td>73</td>\n",
       "      <td>19</td>\n",
       "      <td>8.19</td>\n",
       "      <td>CL</td>\n",
       "      <td>1660851238</td>\n",
       "    </tr>\n",
       "    <tr>\n",
       "      <th>2</th>\n",
       "      <td>Oranjemund</td>\n",
       "      <td>-28.5500</td>\n",
       "      <td>16.4333</td>\n",
       "      <td>54.12</td>\n",
       "      <td>88</td>\n",
       "      <td>2</td>\n",
       "      <td>15.23</td>\n",
       "      <td>NA</td>\n",
       "      <td>1660851481</td>\n",
       "    </tr>\n",
       "    <tr>\n",
       "      <th>3</th>\n",
       "      <td>Ushuaia</td>\n",
       "      <td>-54.8000</td>\n",
       "      <td>-68.3000</td>\n",
       "      <td>42.46</td>\n",
       "      <td>61</td>\n",
       "      <td>75</td>\n",
       "      <td>5.75</td>\n",
       "      <td>AR</td>\n",
       "      <td>1660851483</td>\n",
       "    </tr>\n",
       "    <tr>\n",
       "      <th>4</th>\n",
       "      <td>Jamestown</td>\n",
       "      <td>42.0970</td>\n",
       "      <td>-79.2353</td>\n",
       "      <td>79.95</td>\n",
       "      <td>45</td>\n",
       "      <td>75</td>\n",
       "      <td>6.91</td>\n",
       "      <td>US</td>\n",
       "      <td>1660851309</td>\n",
       "    </tr>\n",
       "  </tbody>\n",
       "</table>\n",
       "</div>"
      ],
      "text/plain": [
       "         City      Lat       Lng  Max Temp  Humidity  Cloudiness  Wind Speed  \\\n",
       "0   Hay River  60.8156 -115.7999     85.98        32          75        6.91   \n",
       "1     Iquique -20.2208  -70.1431     62.64        73          19        8.19   \n",
       "2  Oranjemund -28.5500   16.4333     54.12        88           2       15.23   \n",
       "3     Ushuaia -54.8000  -68.3000     42.46        61          75        5.75   \n",
       "4   Jamestown  42.0970  -79.2353     79.95        45          75        6.91   \n",
       "\n",
       "  Country        Date  \n",
       "0      CA  1660851476  \n",
       "1      CL  1660851238  \n",
       "2      NA  1660851481  \n",
       "3      AR  1660851483  \n",
       "4      US  1660851309  "
      ]
     },
     "execution_count": 7,
     "metadata": {},
     "output_type": "execute_result"
    }
   ],
   "source": [
    "# Creating data frame\n",
    "city_df ={\n",
    "    \"City\": city_data, \n",
    "    \"Lat\": city_lat, \n",
    "    \"Lng\": city_lng, \n",
    "    \"Max Temp\": city_max_temp,\n",
    "    \"Humidity\": city_humidity,\n",
    "    \"Cloudiness\": city_clouds,\n",
    "    \"Wind Speed\": city_wind,\n",
    "    \"Country\": city_country,\n",
    "     \"Date\": city_date}\n",
    "\n",
    "weather_df = pd.DataFrame(city_df)\n",
    "weather_df.head()"
   ]
  },
  {
   "cell_type": "code",
   "execution_count": 8,
   "metadata": {},
   "outputs": [],
   "source": [
    "weather_df.to_csv(\"output_data/city_weather.csv\", index=False, header=True)"
   ]
  },
  {
   "cell_type": "code",
   "execution_count": 9,
   "metadata": {},
   "outputs": [
    {
     "data": {
      "text/html": [
       "<div>\n",
       "<style scoped>\n",
       "    .dataframe tbody tr th:only-of-type {\n",
       "        vertical-align: middle;\n",
       "    }\n",
       "\n",
       "    .dataframe tbody tr th {\n",
       "        vertical-align: top;\n",
       "    }\n",
       "\n",
       "    .dataframe thead th {\n",
       "        text-align: right;\n",
       "    }\n",
       "</style>\n",
       "<table border=\"1\" class=\"dataframe\">\n",
       "  <thead>\n",
       "    <tr style=\"text-align: right;\">\n",
       "      <th></th>\n",
       "      <th>Lat</th>\n",
       "      <th>Lng</th>\n",
       "      <th>Max Temp</th>\n",
       "      <th>Humidity</th>\n",
       "      <th>Cloudiness</th>\n",
       "      <th>Wind Speed</th>\n",
       "      <th>Date</th>\n",
       "    </tr>\n",
       "  </thead>\n",
       "  <tbody>\n",
       "    <tr>\n",
       "      <th>count</th>\n",
       "      <td>558.000000</td>\n",
       "      <td>558.000000</td>\n",
       "      <td>558.000000</td>\n",
       "      <td>558.000000</td>\n",
       "      <td>558.000000</td>\n",
       "      <td>558.000000</td>\n",
       "      <td>5.580000e+02</td>\n",
       "    </tr>\n",
       "    <tr>\n",
       "      <th>mean</th>\n",
       "      <td>20.379396</td>\n",
       "      <td>14.148836</td>\n",
       "      <td>68.358548</td>\n",
       "      <td>70.716846</td>\n",
       "      <td>52.541219</td>\n",
       "      <td>8.179731</td>\n",
       "      <td>1.660861e+09</td>\n",
       "    </tr>\n",
       "    <tr>\n",
       "      <th>std</th>\n",
       "      <td>33.476329</td>\n",
       "      <td>88.573757</td>\n",
       "      <td>14.522372</td>\n",
       "      <td>19.718634</td>\n",
       "      <td>39.634383</td>\n",
       "      <td>5.520036</td>\n",
       "      <td>5.806558e+03</td>\n",
       "    </tr>\n",
       "    <tr>\n",
       "      <th>min</th>\n",
       "      <td>-54.800000</td>\n",
       "      <td>-175.200000</td>\n",
       "      <td>35.620000</td>\n",
       "      <td>10.000000</td>\n",
       "      <td>0.000000</td>\n",
       "      <td>0.000000</td>\n",
       "      <td>1.660851e+09</td>\n",
       "    </tr>\n",
       "    <tr>\n",
       "      <th>25%</th>\n",
       "      <td>-6.146225</td>\n",
       "      <td>-62.839950</td>\n",
       "      <td>55.890000</td>\n",
       "      <td>61.000000</td>\n",
       "      <td>8.000000</td>\n",
       "      <td>4.160000</td>\n",
       "      <td>1.660852e+09</td>\n",
       "    </tr>\n",
       "    <tr>\n",
       "      <th>50%</th>\n",
       "      <td>24.280050</td>\n",
       "      <td>17.484850</td>\n",
       "      <td>71.200000</td>\n",
       "      <td>75.000000</td>\n",
       "      <td>57.000000</td>\n",
       "      <td>6.860000</td>\n",
       "      <td>1.660865e+09</td>\n",
       "    </tr>\n",
       "    <tr>\n",
       "      <th>75%</th>\n",
       "      <td>47.928275</td>\n",
       "      <td>92.246025</td>\n",
       "      <td>79.647500</td>\n",
       "      <td>85.000000</td>\n",
       "      <td>95.000000</td>\n",
       "      <td>11.500000</td>\n",
       "      <td>1.660865e+09</td>\n",
       "    </tr>\n",
       "    <tr>\n",
       "      <th>max</th>\n",
       "      <td>78.218600</td>\n",
       "      <td>178.416700</td>\n",
       "      <td>106.610000</td>\n",
       "      <td>100.000000</td>\n",
       "      <td>100.000000</td>\n",
       "      <td>30.740000</td>\n",
       "      <td>1.660865e+09</td>\n",
       "    </tr>\n",
       "  </tbody>\n",
       "</table>\n",
       "</div>"
      ],
      "text/plain": [
       "              Lat         Lng    Max Temp    Humidity  Cloudiness  Wind Speed  \\\n",
       "count  558.000000  558.000000  558.000000  558.000000  558.000000  558.000000   \n",
       "mean    20.379396   14.148836   68.358548   70.716846   52.541219    8.179731   \n",
       "std     33.476329   88.573757   14.522372   19.718634   39.634383    5.520036   \n",
       "min    -54.800000 -175.200000   35.620000   10.000000    0.000000    0.000000   \n",
       "25%     -6.146225  -62.839950   55.890000   61.000000    8.000000    4.160000   \n",
       "50%     24.280050   17.484850   71.200000   75.000000   57.000000    6.860000   \n",
       "75%     47.928275   92.246025   79.647500   85.000000   95.000000   11.500000   \n",
       "max     78.218600  178.416700  106.610000  100.000000  100.000000   30.740000   \n",
       "\n",
       "               Date  \n",
       "count  5.580000e+02  \n",
       "mean   1.660861e+09  \n",
       "std    5.806558e+03  \n",
       "min    1.660851e+09  \n",
       "25%    1.660852e+09  \n",
       "50%    1.660865e+09  \n",
       "75%    1.660865e+09  \n",
       "max    1.660865e+09  "
      ]
     },
     "execution_count": 9,
     "metadata": {},
     "output_type": "execute_result"
    }
   ],
   "source": [
    "weather_df.describe()"
   ]
  },
  {
   "cell_type": "code",
   "execution_count": 10,
   "metadata": {},
   "outputs": [],
   "source": [
    "#Inspect the data and remove the cities where the humidity > 100%."
   ]
  },
  {
   "cell_type": "code",
   "execution_count": 11,
   "metadata": {},
   "outputs": [
    {
     "data": {
      "text/plain": [
       "4"
      ]
     },
     "execution_count": 11,
     "metadata": {},
     "output_type": "execute_result"
    }
   ],
   "source": [
    "weather_df.loc[weather_df[\"Humidity\"] >= 100][\"Humidity\"].count()\n"
   ]
  },
  {
   "cell_type": "code",
   "execution_count": 12,
   "metadata": {},
   "outputs": [
    {
     "data": {
      "text/plain": [
       "Int64Index([], dtype='int64')"
      ]
     },
     "execution_count": 12,
     "metadata": {},
     "output_type": "execute_result"
    }
   ],
   "source": [
    "hum_100 = weather_df[weather_df.Humidity > 100].index\n",
    "hum_100"
   ]
  },
  {
   "cell_type": "code",
   "execution_count": 13,
   "metadata": {},
   "outputs": [
    {
     "data": {
      "text/html": [
       "<div>\n",
       "<style scoped>\n",
       "    .dataframe tbody tr th:only-of-type {\n",
       "        vertical-align: middle;\n",
       "    }\n",
       "\n",
       "    .dataframe tbody tr th {\n",
       "        vertical-align: top;\n",
       "    }\n",
       "\n",
       "    .dataframe thead th {\n",
       "        text-align: right;\n",
       "    }\n",
       "</style>\n",
       "<table border=\"1\" class=\"dataframe\">\n",
       "  <thead>\n",
       "    <tr style=\"text-align: right;\">\n",
       "      <th></th>\n",
       "      <th>City</th>\n",
       "      <th>Lat</th>\n",
       "      <th>Lng</th>\n",
       "      <th>Max Temp</th>\n",
       "      <th>Humidity</th>\n",
       "      <th>Cloudiness</th>\n",
       "      <th>Wind Speed</th>\n",
       "      <th>Country</th>\n",
       "      <th>Date</th>\n",
       "    </tr>\n",
       "  </thead>\n",
       "  <tbody>\n",
       "    <tr>\n",
       "      <th>0</th>\n",
       "      <td>Hay River</td>\n",
       "      <td>60.8156</td>\n",
       "      <td>-115.7999</td>\n",
       "      <td>85.98</td>\n",
       "      <td>32</td>\n",
       "      <td>75</td>\n",
       "      <td>6.91</td>\n",
       "      <td>CA</td>\n",
       "      <td>1660851476</td>\n",
       "    </tr>\n",
       "    <tr>\n",
       "      <th>1</th>\n",
       "      <td>Iquique</td>\n",
       "      <td>-20.2208</td>\n",
       "      <td>-70.1431</td>\n",
       "      <td>62.64</td>\n",
       "      <td>73</td>\n",
       "      <td>19</td>\n",
       "      <td>8.19</td>\n",
       "      <td>CL</td>\n",
       "      <td>1660851238</td>\n",
       "    </tr>\n",
       "    <tr>\n",
       "      <th>2</th>\n",
       "      <td>Oranjemund</td>\n",
       "      <td>-28.5500</td>\n",
       "      <td>16.4333</td>\n",
       "      <td>54.12</td>\n",
       "      <td>88</td>\n",
       "      <td>2</td>\n",
       "      <td>15.23</td>\n",
       "      <td>NA</td>\n",
       "      <td>1660851481</td>\n",
       "    </tr>\n",
       "    <tr>\n",
       "      <th>3</th>\n",
       "      <td>Ushuaia</td>\n",
       "      <td>-54.8000</td>\n",
       "      <td>-68.3000</td>\n",
       "      <td>42.46</td>\n",
       "      <td>61</td>\n",
       "      <td>75</td>\n",
       "      <td>5.75</td>\n",
       "      <td>AR</td>\n",
       "      <td>1660851483</td>\n",
       "    </tr>\n",
       "    <tr>\n",
       "      <th>4</th>\n",
       "      <td>Jamestown</td>\n",
       "      <td>42.0970</td>\n",
       "      <td>-79.2353</td>\n",
       "      <td>79.95</td>\n",
       "      <td>45</td>\n",
       "      <td>75</td>\n",
       "      <td>6.91</td>\n",
       "      <td>US</td>\n",
       "      <td>1660851309</td>\n",
       "    </tr>\n",
       "    <tr>\n",
       "      <th>...</th>\n",
       "      <td>...</td>\n",
       "      <td>...</td>\n",
       "      <td>...</td>\n",
       "      <td>...</td>\n",
       "      <td>...</td>\n",
       "      <td>...</td>\n",
       "      <td>...</td>\n",
       "      <td>...</td>\n",
       "      <td>...</td>\n",
       "    </tr>\n",
       "    <tr>\n",
       "      <th>553</th>\n",
       "      <td>Fairbanks</td>\n",
       "      <td>64.8378</td>\n",
       "      <td>-147.7164</td>\n",
       "      <td>66.22</td>\n",
       "      <td>45</td>\n",
       "      <td>75</td>\n",
       "      <td>3.44</td>\n",
       "      <td>US</td>\n",
       "      <td>1660865393</td>\n",
       "    </tr>\n",
       "    <tr>\n",
       "      <th>554</th>\n",
       "      <td>Beloha</td>\n",
       "      <td>-25.1667</td>\n",
       "      <td>45.0500</td>\n",
       "      <td>60.87</td>\n",
       "      <td>69</td>\n",
       "      <td>7</td>\n",
       "      <td>5.32</td>\n",
       "      <td>MG</td>\n",
       "      <td>1660865395</td>\n",
       "    </tr>\n",
       "    <tr>\n",
       "      <th>555</th>\n",
       "      <td>Saint-Pierre</td>\n",
       "      <td>-21.3393</td>\n",
       "      <td>55.4781</td>\n",
       "      <td>70.92</td>\n",
       "      <td>71</td>\n",
       "      <td>40</td>\n",
       "      <td>5.75</td>\n",
       "      <td>RE</td>\n",
       "      <td>1660865397</td>\n",
       "    </tr>\n",
       "    <tr>\n",
       "      <th>556</th>\n",
       "      <td>Carbondale</td>\n",
       "      <td>37.7273</td>\n",
       "      <td>-89.2168</td>\n",
       "      <td>85.05</td>\n",
       "      <td>55</td>\n",
       "      <td>40</td>\n",
       "      <td>5.75</td>\n",
       "      <td>US</td>\n",
       "      <td>1660865400</td>\n",
       "    </tr>\n",
       "    <tr>\n",
       "      <th>557</th>\n",
       "      <td>Daru</td>\n",
       "      <td>-9.0763</td>\n",
       "      <td>143.2092</td>\n",
       "      <td>77.83</td>\n",
       "      <td>66</td>\n",
       "      <td>100</td>\n",
       "      <td>13.02</td>\n",
       "      <td>PG</td>\n",
       "      <td>1660865402</td>\n",
       "    </tr>\n",
       "  </tbody>\n",
       "</table>\n",
       "<p>558 rows × 9 columns</p>\n",
       "</div>"
      ],
      "text/plain": [
       "             City      Lat       Lng  Max Temp  Humidity  Cloudiness  \\\n",
       "0       Hay River  60.8156 -115.7999     85.98        32          75   \n",
       "1         Iquique -20.2208  -70.1431     62.64        73          19   \n",
       "2      Oranjemund -28.5500   16.4333     54.12        88           2   \n",
       "3         Ushuaia -54.8000  -68.3000     42.46        61          75   \n",
       "4       Jamestown  42.0970  -79.2353     79.95        45          75   \n",
       "..            ...      ...       ...       ...       ...         ...   \n",
       "553     Fairbanks  64.8378 -147.7164     66.22        45          75   \n",
       "554        Beloha -25.1667   45.0500     60.87        69           7   \n",
       "555  Saint-Pierre -21.3393   55.4781     70.92        71          40   \n",
       "556    Carbondale  37.7273  -89.2168     85.05        55          40   \n",
       "557          Daru  -9.0763  143.2092     77.83        66         100   \n",
       "\n",
       "     Wind Speed Country        Date  \n",
       "0          6.91      CA  1660851476  \n",
       "1          8.19      CL  1660851238  \n",
       "2         15.23      NA  1660851481  \n",
       "3          5.75      AR  1660851483  \n",
       "4          6.91      US  1660851309  \n",
       "..          ...     ...         ...  \n",
       "553        3.44      US  1660865393  \n",
       "554        5.32      MG  1660865395  \n",
       "555        5.75      RE  1660865397  \n",
       "556        5.75      US  1660865400  \n",
       "557       13.02      PG  1660865402  \n",
       "\n",
       "[558 rows x 9 columns]"
      ]
     },
     "execution_count": 13,
     "metadata": {},
     "output_type": "execute_result"
    }
   ],
   "source": [
    "clean_city_data = weather_df\n",
    "for x in hum_100:\n",
    "    clean_city_data = weather_df.drop([x])\n",
    "clean_city_data    "
   ]
  },
  {
   "cell_type": "code",
   "execution_count": 14,
   "metadata": {},
   "outputs": [],
   "source": [
    "# Latitude vs. Temperature "
   ]
  },
  {
   "cell_type": "code",
   "execution_count": 15,
   "metadata": {},
   "outputs": [],
   "source": [
    "latitude = clean_city_data .Lat\n",
    "max_temp = clean_city_data [\"Max Temp\"]\n",
    "humidity = clean_city_data.Humidity\n",
    "cloud = clean_city_data.Cloudiness\n",
    "wind = clean_city_data['Wind Speed']\n",
    "\n",
    "# Export the clean_city_data into a csv:\n",
    "clean_city_data.to_csv(\"output_data/clean_city_data.csv\", index=False, header=True)"
   ]
  },
  {
   "cell_type": "code",
   "execution_count": 16,
   "metadata": {},
   "outputs": [
    {
     "data": {
      "image/png": "[encoded data removed]",
      "text/plain": [
       "<Figure size 432x288 with 1 Axes>"
      ]
     },
     "metadata": {
      "needs_background": "light"
     },
     "output_type": "display_data"
    }
   ],
   "source": [
    "x_values = latitude\n",
    "y_values = max_temp\n",
    "\n",
    "plt.scatter(x_values,y_values, marker = \"o\", facecolor = \"cyan\")\n",
    "\n",
    "plt.xlabel('Latitude')\n",
    "plt.ylabel('Max Temprature (F)')\n",
    "plt.title(\"City Latitude vs. Max Temperature (%s)\" % time.strftime(\"%x\"))\n",
    "plt.grid()\n",
    "plt.savefig(\"Images/lat_vs_temp.png\")\n",
    "plt.show()"
   ]
  },
  {
   "cell_type": "code",
   "execution_count": 17,
   "metadata": {},
   "outputs": [],
   "source": [
    "#this plot is showing the max temps for each city in my data based on the latitude where those cities are located. "
   ]
  },
  {
   "cell_type": "code",
   "execution_count": 18,
   "metadata": {},
   "outputs": [],
   "source": [
    "#Humidity (%) vs. Latitude"
   ]
  },
  {
   "cell_type": "code",
   "execution_count": 19,
   "metadata": {},
   "outputs": [
    {
     "data": {
      "image/png": "[encoded data removed]",
      "text/plain": [
       "<Figure size 432x288 with 1 Axes>"
      ]
     },
     "metadata": {
      "needs_background": "light"
     },
     "output_type": "display_data"
    }
   ],
   "source": [
    "x_values = latitude\n",
    "y_values = humidity\n",
    "\n",
    "plt.scatter(x_values,y_values, marker = \"o\", facecolor = \"pink\")\n",
    "\n",
    "plt.xlabel('Latitude')\n",
    "plt.ylabel('Humidity (%)')\n",
    "plt.title(\"City Latitude vs. Humidity (%s)\" % time.strftime(\"%x\"))\n",
    "plt.grid()\n",
    "plt.savefig(\"Images/lat_vs_humid.png\")\n",
    "plt.show()"
   ]
  },
  {
   "cell_type": "code",
   "execution_count": 20,
   "metadata": {},
   "outputs": [],
   "source": [
    "#this plot shows the humidity for each city in my data based on the latitude. "
   ]
  },
  {
   "cell_type": "code",
   "execution_count": 21,
   "metadata": {},
   "outputs": [],
   "source": [
    "#Cloudiness (%) vs. Latitude"
   ]
  },
  {
   "cell_type": "code",
   "execution_count": 22,
   "metadata": {},
   "outputs": [
    {
     "data": {
      "image/png": "[encoded data removed]",
      "text/plain": [
       "<Figure size 432x288 with 1 Axes>"
      ]
     },
     "metadata": {
      "needs_background": "light"
     },
     "output_type": "display_data"
    }
   ],
   "source": [
    "x_values = latitude\n",
    "y_values = cloud\n",
    "\n",
    "plt.scatter(x_values,y_values, marker = \"o\", facecolor = \"red\")\n",
    "\n",
    "plt.xlabel('Latitude')\n",
    "plt.ylabel('Cloudiness (%)')\n",
    "plt.title(\"City Latitude vs. Cloudiness(%s)\" % time.strftime(\"%x\"))\n",
    "plt.grid()\n",
    "plt.savefig(\"Images/lat_vs_cloud.png\")\n",
    "plt.show()"
   ]
  },
  {
   "cell_type": "code",
   "execution_count": 23,
   "metadata": {},
   "outputs": [],
   "source": [
    "#this plot is showing how cloudy the cities in my data are, based on the latitude of them. "
   ]
  },
  {
   "cell_type": "code",
   "execution_count": 24,
   "metadata": {},
   "outputs": [],
   "source": [
    "#Wind Speed (mph) vs. Latitude"
   ]
  },
  {
   "cell_type": "code",
   "execution_count": 25,
   "metadata": {},
   "outputs": [
    {
     "data": {
      "image/png": "[encoded data removed]",
      "text/plain": [
       "<Figure size 432x288 with 1 Axes>"
      ]
     },
     "metadata": {
      "needs_background": "light"
     },
     "output_type": "display_data"
    }
   ],
   "source": [
    "x_values = latitude\n",
    "y_values = wind\n",
    "\n",
    "plt.scatter(x_values,y_values, marker = \"o\", facecolor = \"blue\")\n",
    "\n",
    "plt.xlabel('Latitude')\n",
    "plt.ylabel('Wind Speed (mph)')\n",
    "plt.title(\"City Latitude vs. Wind Speed (%s)\" % time.strftime(\"%x\"))\n",
    "plt.grid()\n",
    "plt.savefig(\"Images/lat_vs_wind.png\")\n",
    "plt.show()"
   ]
  },
  {
   "cell_type": "code",
   "execution_count": 26,
   "metadata": {},
   "outputs": [],
   "source": [
    "#this plot is showing the top wind speed in the cities in my data based on thier latitudes. "
   ]
  },
  {
   "cell_type": "code",
   "execution_count": 27,
   "metadata": {},
   "outputs": [],
   "source": [
    "#Northern and Southern hemisphere regressions "
   ]
  },
  {
   "cell_type": "code",
   "execution_count": 28,
   "metadata": {},
   "outputs": [],
   "source": [
    "#determining N and S hemisphere \n",
    "\n",
    "n_hemisphere = clean_city_data.loc[clean_city_data[\"Lat\"] >= 0]\n",
    "s_hemisphere = clean_city_data.loc[clean_city_data[\"Lat\"] < 0]"
   ]
  },
  {
   "cell_type": "code",
   "execution_count": 29,
   "metadata": {},
   "outputs": [],
   "source": [
    "x_values = pd.to_numeric(n_hemisphere['Lat'])\n",
    "y_values = pd.to_numeric(n_hemisphere['Max Temp'])\n",
    "(slope, intercept, rvalue, pvalue, stderr) = linregress(x_values, y_values)\n",
    "regress_values = x_values * slope + intercept\n",
    "line_eq = \"y = \" + str(round(slope,2)) + \"x + \" + str(round(intercept,2))\n"
   ]
  },
  {
   "cell_type": "code",
   "execution_count": 30,
   "metadata": {},
   "outputs": [
    {
     "name": "stdout",
     "output_type": "stream",
     "text": [
      "The p-value is: 9.158881916529612e-54\n",
      "The r-value is: -0.6790170399704626\n"
     ]
    },
    {
     "data": {
      "image/png": "[encoded data removed]",
      "text/plain": [
       "<Figure size 432x288 with 1 Axes>"
      ]
     },
     "metadata": {
      "needs_background": "light"
     },
     "output_type": "display_data"
    }
   ],
   "source": [
    "# Plot 1: Northern Hemisphere - Max Temp vs. Latitude Linear Regression\n",
    "plt.scatter(x_values,y_values)\n",
    "plt.plot(x_values,regress_values,\"r-\")\n",
    "plt.annotate(line_eq,(5,40),fontsize=10,color=\"r\")\n",
    "plt.xlabel('Latitude')\n",
    "plt.ylabel('Max Temperature (F)')\n",
    "plt.title('Northern Hemisphere - Max Temp vs. Latitude Linear Regression')\n",
    "\n",
    "# Calculated pvalue to determine whether correlation is significant(if there is truly a relationship):\n",
    "print(f\"The p-value is: {pvalue}\")\n",
    "print(f\"The r-value is: {rvalue}\")\n",
    "\n",
    "plt.savefig(\"Images/north_temp_lg.png\")\n",
    "plt.show()"
   ]
  },
  {
   "cell_type": "code",
   "execution_count": 31,
   "metadata": {},
   "outputs": [],
   "source": [
    "x_values = pd.to_numeric(s_hemisphere['Lat'])\n",
    "y_values = pd.to_numeric(s_hemisphere['Max Temp'])\n",
    "(slope, intercept, rvalue, pvalue, stderr) = linregress(x_values, y_values)\n",
    "regress_values = x_values * slope + intercept\n",
    "line_eq = \"y = \" + str(round(slope,2)) + \"x + \" + str(round(intercept,2))"
   ]
  },
  {
   "cell_type": "code",
   "execution_count": 32,
   "metadata": {},
   "outputs": [
    {
     "name": "stdout",
     "output_type": "stream",
     "text": [
      "The p-value is: 1.5509718562078856e-43\n",
      "The r-value is: 0.8252203217803764\n"
     ]
    },
    {
     "data": {
      "image/png": "[encoded data removed]",
      "text/plain": [
       "<Figure size 432x288 with 1 Axes>"
      ]
     },
     "metadata": {
      "needs_background": "light"
     },
     "output_type": "display_data"
    }
   ],
   "source": [
    "plt.scatter(x_values,y_values)\n",
    "plt.plot(x_values,regress_values,\"r-\")\n",
    "plt.annotate(line_eq,(-25,40),fontsize=10,color=\"r\")\n",
    "plt.xlabel('Latitude')\n",
    "plt.ylabel('Max Temperature (F)')\n",
    "plt.title('Southern Hemisphere - Max Temp vs. Latitude Linear Regression')\n",
    "\n",
    "# Calculated pvalue to determine whether correlation is significant(if there is truly a relationship):\n",
    "print(f\"The p-value is: {pvalue}\")\n",
    "print(f\"The r-value is: {rvalue}\")\n",
    "\n",
    "plt.savefig(\"Images/south_temp_lg.png\")\n",
    "plt.show()"
   ]
  },
  {
   "cell_type": "code",
   "execution_count": 33,
   "metadata": {},
   "outputs": [],
   "source": [
    "#After each pair of plots, explain what the linear regression is modeling. For example, describe any relationships that you notice and any other findings you may have.\n",
    "\n",
    "\n",
    "#In the both the northern and sothern hemisphere the temperature increases the closer you are to the equator.\n"
   ]
  },
  {
   "cell_type": "code",
   "execution_count": 34,
   "metadata": {},
   "outputs": [],
   "source": [
    "x_values = pd.to_numeric(n_hemisphere['Lat'])\n",
    "y_values = pd.to_numeric(n_hemisphere['Humidity'])\n",
    "(slope, intercept, rvalue, pvalue, stderr) = linregress(x_values, y_values)\n",
    "regress_values = x_values * slope + intercept\n",
    "line_eq = \"y = \" + str(round(slope,2)) + \"x + \" + str(round(intercept,2))\n"
   ]
  },
  {
   "cell_type": "code",
   "execution_count": 35,
   "metadata": {},
   "outputs": [
    {
     "name": "stdout",
     "output_type": "stream",
     "text": [
      "The p-value is: 0.3933740885576189\n",
      "The r-value is: -0.043450352983347464\n"
     ]
    },
    {
     "data": {
      "image/png": "[encoded data removed]",
      "text/plain": [
       "<Figure size 432x288 with 1 Axes>"
      ]
     },
     "metadata": {
      "needs_background": "light"
     },
     "output_type": "display_data"
    }
   ],
   "source": [
    "plt.scatter(x_values,y_values)\n",
    "plt.plot(x_values,regress_values,\"r-\")\n",
    "plt.annotate(line_eq,(2,25),fontsize=10,color=\"r\")\n",
    "plt.xlabel('Latitude')\n",
    "plt.ylabel('Humidity')\n",
    "plt.title('Northern Hemisphere - Humidity vs. Latitude Linear Regression')\n",
    "\n",
    "# Calculated pvalue to determine whether correlation is significant(if there is truly a relationship):\n",
    "print(f\"The p-value is: {pvalue}\")\n",
    "print(f\"The r-value is: {rvalue}\")\n",
    "\n",
    "plt.savefig(\"Images/north_humidity_lg.png\")\n",
    "plt.show()"
   ]
  },
  {
   "cell_type": "code",
   "execution_count": 36,
   "metadata": {},
   "outputs": [],
   "source": [
    "x_values = pd.to_numeric(s_hemisphere['Lat'])\n",
    "y_values = pd.to_numeric(s_hemisphere['Humidity'])\n",
    "(slope, intercept, rvalue, pvalue, stderr) = linregress(x_values, y_values)\n",
    "regress_values = x_values * slope + intercept\n",
    "line_eq = \"y = \" + str(round(slope,2)) + \"x + \" + str(round(intercept,2))\n"
   ]
  },
  {
   "cell_type": "code",
   "execution_count": 37,
   "metadata": {},
   "outputs": [
    {
     "name": "stdout",
     "output_type": "stream",
     "text": [
      "The p-value is: 0.590670244400582\n",
      "The r-value is: -0.04154103692095337\n"
     ]
    },
    {
     "data": {
      "image/png": "[encoded data removed]",
      "text/plain": [
       "<Figure size 432x288 with 1 Axes>"
      ]
     },
     "metadata": {
      "needs_background": "light"
     },
     "output_type": "display_data"
    }
   ],
   "source": [
    "plt.scatter(x_values,y_values)\n",
    "plt.plot(x_values,regress_values,\"r-\")\n",
    "plt.annotate(line_eq,(-55,10),fontsize=10,color=\"r\")\n",
    "plt.xlabel('Latitude')\n",
    "plt.ylabel('Humidity')\n",
    "plt.title('Southern Hemisphere - Humidity vs. Latitude Linear Regression')\n",
    "\n",
    "# Calculated pvalue to determine whether correlation is significant(if there is truly a relationship):\n",
    "print(f\"The p-value is: {pvalue}\")\n",
    "print(f\"The r-value is: {rvalue}\")\n",
    "\n",
    "plt.savefig(\"Images/south_humidity_lg.png\")\n",
    "plt.show()"
   ]
  },
  {
   "cell_type": "code",
   "execution_count": 38,
   "metadata": {},
   "outputs": [],
   "source": [
    "#After each pair of plots, explain what the linear regression is modeling. For example, describe any relationships that you notice and any other findings you may have\n",
    "\n",
    "#in the northern hemisphere as you move farther away from the equator the humidity increases. \n",
    "#in the southern hemisphere as you move closer to the equator the humidity increases. "
   ]
  },
  {
   "cell_type": "code",
   "execution_count": 39,
   "metadata": {},
   "outputs": [],
   "source": [
    "x_values = pd.to_numeric(n_hemisphere['Lat'])\n",
    "y_values = pd.to_numeric(n_hemisphere['Cloudiness'])\n",
    "(slope, intercept, rvalue, pvalue, stderr) = linregress(x_values, y_values)\n",
    "regress_values = x_values * slope + intercept\n",
    "line_eq = \"y = \" + str(round(slope,2)) + \"x + \" + str(round(intercept,2))\n"
   ]
  },
  {
   "cell_type": "code",
   "execution_count": 40,
   "metadata": {},
   "outputs": [
    {
     "name": "stdout",
     "output_type": "stream",
     "text": [
      "The p-value is: 0.8714461578316999\n",
      "The r-value is: 0.008241710796785557\n"
     ]
    },
    {
     "data": {
      "image/png": "[encoded data removed]",
      "text/plain": [
       "<Figure size 432x288 with 1 Axes>"
      ]
     },
     "metadata": {
      "needs_background": "light"
     },
     "output_type": "display_data"
    }
   ],
   "source": [
    "plt.scatter(x_values,y_values)\n",
    "plt.plot(x_values,regress_values,\"r-\")\n",
    "plt.annotate(line_eq,(75,25),fontsize=10,color=\"r\")\n",
    "plt.xlabel('Latitude')\n",
    "plt.ylabel('Cloudiness')\n",
    "plt.title('Northern Hemisphere - Cloudiness vs. Latitude Linear Regression')\n",
    "\n",
    "# Calculated pvalue to determine whether correlation is significant(if there is truly a relationship):\n",
    "print(f\"The p-value is: {pvalue}\")\n",
    "print(f\"The r-value is: {rvalue}\")\n",
    "\n",
    "plt.savefig(\"Images/north_cloud_lg.png\")\n",
    "plt.show()"
   ]
  },
  {
   "cell_type": "code",
   "execution_count": 41,
   "metadata": {},
   "outputs": [],
   "source": [
    "x_values = pd.to_numeric(s_hemisphere['Lat'])\n",
    "y_values = pd.to_numeric(s_hemisphere['Cloudiness'])\n",
    "(slope, intercept, rvalue, pvalue, stderr) = linregress(x_values, y_values)\n",
    "regress_values = x_values * slope + intercept\n",
    "line_eq = \"y = \" + str(round(slope,2)) + \"x + \" + str(round(intercept,2))\n"
   ]
  },
  {
   "cell_type": "code",
   "execution_count": 42,
   "metadata": {},
   "outputs": [
    {
     "name": "stdout",
     "output_type": "stream",
     "text": [
      "The p-value is: 0.9134586836398942\n",
      "The r-value is: -0.00839695094918054\n"
     ]
    },
    {
     "data": {
      "image/png": "[encoded data removed]",
      "text/plain": [
       "<Figure size 432x288 with 1 Axes>"
      ]
     },
     "metadata": {
      "needs_background": "light"
     },
     "output_type": "display_data"
    }
   ],
   "source": [
    "plt.scatter(x_values,y_values)\n",
    "plt.plot(x_values,regress_values,\"r-\")\n",
    "plt.annotate(line_eq,(-45,15),fontsize=10,color=\"r\")\n",
    "plt.xlabel('Latitude')\n",
    "plt.ylabel('Cloudiness')\n",
    "plt.title('Southern Hemisphere - Cloudiness vs. Latitude Linear Regression')\n",
    "\n",
    "# Calculated pvalue to determine whether correlation is significant(if there is truly a relationship):\n",
    "print(f\"The p-value is: {pvalue}\")\n",
    "print(f\"The r-value is: {rvalue}\")\n",
    "\n",
    "plt.savefig(\"Images/south_cloud_lg.png\")\n",
    "plt.show()"
   ]
  },
  {
   "cell_type": "code",
   "execution_count": 43,
   "metadata": {},
   "outputs": [],
   "source": [
    "#After each pair of plots, explain what the linear regression is modeling.For example, describe any relationships that you notice and any other findings you may have.\n",
    "\n",
    "#in the northern hemisphere there is no significance with latitude and cloudiness\n",
    "#in the southern hemisphere when you move closer to the equator you will have less clouds.\n"
   ]
  },
  {
   "cell_type": "code",
   "execution_count": 44,
   "metadata": {},
   "outputs": [],
   "source": [
    "x_values = pd.to_numeric(n_hemisphere['Lat'])\n",
    "y_values = pd.to_numeric(n_hemisphere['Wind Speed'])\n",
    "(slope, intercept, rvalue, pvalue, stderr) = linregress(x_values, y_values)\n",
    "regress_values = x_values * slope + intercept\n",
    "line_eq = \"y = \" + str(round(slope,2)) + \"x + \" + str(round(intercept,2))\n"
   ]
  },
  {
   "cell_type": "code",
   "execution_count": 45,
   "metadata": {},
   "outputs": [
    {
     "name": "stdout",
     "output_type": "stream",
     "text": [
      "The p-value is: 0.20156355191361416\n",
      "The r-value is: 0.06497652775958845\n"
     ]
    },
    {
     "data": {
      "image/png": "[encoded data removed]",
      "text/plain": [
       "<Figure size 432x288 with 1 Axes>"
      ]
     },
     "metadata": {
      "needs_background": "light"
     },
     "output_type": "display_data"
    }
   ],
   "source": [
    "plt.scatter(x_values,y_values)\n",
    "plt.plot(x_values,regress_values,\"r-\")\n",
    "plt.annotate(line_eq,(25,25),fontsize=10,color=\"r\")\n",
    "plt.xlabel('Latitude')\n",
    "plt.ylabel('Wind Speed')\n",
    "plt.title('Northern Hemisphere - Wind speed vs. Latitude Linear Regression')\n",
    "\n",
    "# Calculated pvalue to determine whether correlation is significant(if there is truly a relationship):\n",
    "print(f\"The p-value is: {pvalue}\")\n",
    "print(f\"The r-value is: {rvalue}\")\n",
    "\n",
    "plt.savefig(\"Images/north_wind_lg.png\")\n",
    "plt.show()"
   ]
  },
  {
   "cell_type": "code",
   "execution_count": 46,
   "metadata": {},
   "outputs": [],
   "source": [
    "x_values = pd.to_numeric(s_hemisphere['Lat'])\n",
    "y_values = pd.to_numeric(s_hemisphere['Wind Speed'])\n",
    "(slope, intercept, rvalue, pvalue, stderr) = linregress(x_values, y_values)\n",
    "regress_values = x_values * slope + intercept\n",
    "line_eq = \"y = \" + str(round(slope,2)) + \"x + \" + str(round(intercept,2))\n"
   ]
  },
  {
   "cell_type": "code",
   "execution_count": 47,
   "metadata": {},
   "outputs": [
    {
     "name": "stdout",
     "output_type": "stream",
     "text": [
      "The p-value is: 0.025853813508215466\n",
      "The r-value is: -0.1709119644688489\n"
     ]
    },
    {
     "data": {
      "image/png": "[encoded data removed]",
      "text/plain": [
       "<Figure size 432x288 with 1 Axes>"
      ]
     },
     "metadata": {
      "needs_background": "light"
     },
     "output_type": "display_data"
    }
   ],
   "source": [
    "plt.scatter(x_values,y_values)\n",
    "plt.plot(x_values,regress_values,\"r-\")\n",
    "plt.annotate(line_eq,(-50,25),fontsize=10,color=\"r\")\n",
    "plt.xlabel('Latitude')\n",
    "plt.ylabel('Wind Speed')\n",
    "plt.title('Southern Hemisphere - Wind speed vs. Latitude Linear Regression')\n",
    "\n",
    "# Calculated pvalue to determine whether correlation is significant(if there is truly a relationship):\n",
    "print(f\"The p-value is: {pvalue}\")\n",
    "print(f\"The r-value is: {rvalue}\")\n",
    "\n",
    "plt.savefig(\"Images/south_wind_lg.png\")\n",
    "plt.show()"
   ]
  },
  {
   "cell_type": "code",
   "execution_count": null,
   "metadata": {},
   "outputs": [],
   "source": [
    "#After each pair of plots, explain what the linear regression is modeling. For example, describe any relationships that you notice and any other findings you may have.\n",
    "\n",
    "#in the northern hemisphere when you get closer to the equator wind decreases\n",
    "#in the sothern hemisphere when you get closer to the equator wind also decreases. \n"
   ]
  }
 ],
 "metadata": {
  "kernelspec": {
   "display_name": "Python 3 (ipykernel)",
   "language": "python",
   "name": "python3"
  },
  "language_info": {
   "codemirror_mode": {
    "name": "ipython",
    "version": 3
   },
   "file_extension": ".py",
   "mimetype": "text/x-python",
   "name": "python",
   "nbconvert_exporter": "python",
   "pygments_lexer": "ipython3",
   "version": "3.8.13"
  },
  "vscode": {
   "interpreter": {
    "hash": "31f2aee4e71d21fbe5cf8b01ff0e069b9275f58929596ceb00d14d90e3e16cd6"
   }
  }
 },
 "nbformat": 4,
 "nbformat_minor": 2
}
